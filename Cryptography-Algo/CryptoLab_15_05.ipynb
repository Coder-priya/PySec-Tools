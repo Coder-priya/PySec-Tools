{
  "cells": [
    {
      "cell_type": "markdown",
      "metadata": {
        "id": "YzTB8xltdaEj"
      },
      "source": [
        "Implement RSA for 'textual' data encryption and decryption, keeping following instructions in account:\n",
        "\n",
        " > - Convert char. string to binary string before the encryption\n",
        " > - Unencrypted numbers (representing textual string block) should be represented in N-2 bits\n",
        " > - Encrypted numbers (representing ciphertext's block) should be represented in N bits\n",
        " > - The ciphertext should be a binary string\n",
        " > - You must demonstrate the both encryption and decryption N represents the length of `n` in RSA key-pair."
      ]
    },
    {
      "cell_type": "code",
      "execution_count": 1,
      "metadata": {
        "colab": {
          "base_uri": "https://localhost:8080/"
        },
        "id": "BnZ4TBI3c-EL",
        "outputId": "930e1244-a83e-48d0-bc5f-387e28e633f3"
      },
      "outputs": [
        {
          "name": "stdout",
          "output_type": "stream",
          "text": [
            "m binary value:  0110000101100010 \n",
            "m decimal value: 24930\n",
            "Public Key: (683, 899)\n",
            "Private Key: 107\n",
            "encrypted m:  111101011\n",
            "decrypted c:  1010010001\n"
          ]
        }
      ],
      "source": [
        "from primePy import primes\n",
        "import math\n",
        "import random\n",
        "\n",
        "def str_to_bin(st):\n",
        "  return ''.join(format(ord(i), '08b') for i in st)\n",
        "\n",
        "def bin_to_num(bi):\n",
        "  return int(bi, 2)\n",
        "\n",
        "def key_e(phi):\n",
        "  e_lst = []\n",
        "  for i in range (2, phi):\n",
        "    if math.gcd(i, phi) == 1:\n",
        "      e_lst.append(i)\n",
        "  return random.choice(e_lst)\n",
        "\n",
        "def key_d(e, phi):\n",
        "  d = None\n",
        "  for i in range (1, e+1):\n",
        "    if (e*i) % phi == 1:\n",
        "      d  = i\n",
        "      break\n",
        "  return d\n",
        "\n",
        "def encrypt(m, e, n):\n",
        "  encrypted_m = (m**e ) % n\n",
        "  return encrypted_m\n",
        "\n",
        "def decrypt(c, d, n):\n",
        "  decrypted_c = (c**d ) % n\n",
        "  return decrypted_c\n",
        "\n",
        "\n",
        "m_str = str(input(\"m: \"))                                        #A\n",
        "p = int(input(\"prime p: \"))                                      #29                                              random.choice(primes.upto(100))\n",
        "q = int(input(\"prime q: \"))                                      #31                                              random.choice(primes.upto(100))\n",
        "n = p*q\n",
        "phi = primes.phi(n)\n",
        "e = key_e(phi)\n",
        "d = key_d(e, phi)\n",
        "if d == None:\n",
        "  print(\"d not found\")\n",
        "else:\n",
        "  m_bin = str_to_bin(m_str)\n",
        "  m = bin_to_num(m_bin)\n",
        "  print(\"m binary value: \", m_bin, \"\\nm decimal value:\", m)\n",
        "  print(f\"Public Key: ({e}, {n})\")\n",
        "  print(f\"Private Key: {d}\")\n",
        "  c = encrypt(m, e, n)\n",
        "  dec_c = decrypt(c, d, n)\n",
        "  print(\"encrypted m: \", bin(c)[2:])\n",
        "  print(\"decrypted c: \", bin(dec_c)[2:])"
      ]
    }
  ],
  "metadata": {
    "colab": {
      "provenance": []
    },
    "kernelspec": {
      "display_name": "Python 3",
      "name": "python3"
    },
    "language_info": {
      "codemirror_mode": {
        "name": "ipython",
        "version": 3
      },
      "file_extension": ".py",
      "mimetype": "text/x-python",
      "name": "python",
      "nbconvert_exporter": "python",
      "pygments_lexer": "ipython3",
      "version": "3.12.1"
    }
  },
  "nbformat": 4,
  "nbformat_minor": 0
}
