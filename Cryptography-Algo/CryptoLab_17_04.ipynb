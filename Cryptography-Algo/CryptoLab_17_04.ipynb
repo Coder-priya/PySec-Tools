{
  "cells": [
    {
      "cell_type": "markdown",
      "metadata": {
        "id": "Msesgxc0f7ss"
      },
      "source": [
        "1. Write Python function to implement encryption and decryption algorithms of vernam cipher."
      ]
    },
    {
      "cell_type": "code",
      "execution_count": null,
      "metadata": {
        "colab": {
          "base_uri": "https://localhost:8080/"
        },
        "id": "nf3uv40hf6-d",
        "outputId": "e85f2c90-b3fd-45a0-f687-e6e6f282737f"
      },
      "outputs": [
        {
          "name": "stdout",
          "output_type": "stream",
          "text": [
            "Plain Text: PRIYA\n",
            "Key: APPLE\n",
            "Cipher Text: 0001000100000010000110010001010100000100\n",
            "Plain Text: PRIYA\n"
          ]
        }
      ],
      "source": [
        "def vernam_encrypt(text, key):\n",
        "    if len(key) < len(text):\n",
        "        key += key * (len(text) // len(key)) + key[:len(text) % len(key)]\n",
        "\n",
        "    text_bin = ''.join(format(ord(i), '08b') for i in text)\n",
        "    key_bin = ''.join(format(ord(i), '08b') for i in key)\n",
        "\n",
        "    cipher_text = ''\n",
        "    for i in range(len(text_bin)):\n",
        "      xor_result = str(int(text_bin[i]) ^ int(key_bin[i]))\n",
        "      cipher_text += xor_result\n",
        "\n",
        "    return cipher_text\n",
        "\n",
        "def vernam_decrypt(cipher_text, key):\n",
        "    if len(key) < len(cipher_text) // 8:\n",
        "        key += key * ((len(cipher_text) // 8) // len(key)) + key[:(len(cipher_text) // 8) % len(key)]\n",
        "\n",
        "    key_bin = ''.join(format(ord(i), '08b') for i in key)\n",
        "\n",
        "    plain_text = ''\n",
        "    for i in range(0, len(cipher_text), 8):\n",
        "      xor_result = ''\n",
        "      for j in range(i, i+8):\n",
        "        xor_result += str(int(cipher_text[j]) ^ int(key_bin[j]))\n",
        "      plain_text += chr(int(xor_result, 2))\n",
        "\n",
        "    return plain_text\n",
        "\n",
        "text = input(\"Plain Text: \")\n",
        "key = input(\"Key: \")\n",
        "cipher_text = vernam_encrypt(text, key)\n",
        "print(f\"Cipher Text: {cipher_text}\")\n",
        "\n",
        "plain_text = vernam_decrypt(cipher_text, key)\n",
        "print(f\"Plain Text: {plain_text}\")"
      ]
    },
    {
      "cell_type": "markdown",
      "metadata": {
        "id": "IVitmZ84kfGV"
      },
      "source": [
        "2. Write a Python program to implement DES          \n",
        "         a) Key Generation\n",
        "         b) Encryption and decryption"
      ]
    },
    {
      "cell_type": "code",
      "execution_count": 2,
      "metadata": {
        "id": "wRahUhE8YmJB"
      },
      "outputs": [
        {
          "name": "stdout",
          "output_type": "stream",
          "text": [
            "Encrypted Text: b'\\x9d{P\\x10$#o]'\n",
            "Decrypted Text: b'Priya'\n"
          ]
        }
      ],
      "source": [
        "from Crypto.Cipher import DES\n",
        "from Crypto.Util.Padding import pad, unpad\n",
        "from Crypto.Random import get_random_bytes\n",
        "\n",
        "key = get_random_bytes(8)\n",
        "\n",
        "cipher = DES.new(key, DES.MODE_ECB)\n",
        "plaintext = b'Priya'\n",
        "ciphertext = cipher.encrypt(pad(plaintext, DES.block_size))\n",
        "print('Encrypted Text:', ciphertext)\n",
        "\n",
        "cipher = DES.new(key, DES.MODE_ECB)\n",
        "decrypted_text = unpad(cipher.decrypt(ciphertext), DES.block_size)\n",
        "print('Decrypted Text:', decrypted_text)"
      ]
    }
  ],
  "metadata": {
    "colab": {
      "provenance": []
    },
    "kernelspec": {
      "display_name": "Python 3",
      "name": "python3"
    },
    "language_info": {
      "codemirror_mode": {
        "name": "ipython",
        "version": 3
      },
      "file_extension": ".py",
      "mimetype": "text/x-python",
      "name": "python",
      "nbconvert_exporter": "python",
      "pygments_lexer": "ipython3",
      "version": "3.12.1"
    }
  },
  "nbformat": 4,
  "nbformat_minor": 0
}
