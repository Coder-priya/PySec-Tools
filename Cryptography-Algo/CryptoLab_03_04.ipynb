{
  "nbformat": 4,
  "nbformat_minor": 0,
  "metadata": {
    "colab": {
      "provenance": []
    },
    "kernelspec": {
      "name": "python3",
      "display_name": "Python 3"
    },
    "language_info": {
      "name": "python"
    }
  },
  "cells": [
    {
      "cell_type": "markdown",
      "source": [
        "1. Write a menu-driven program to encrypt/decrypt byte-string data using 3-bit block cipher with the following options:\n",
        "                   1. ECB-mode (with appropriate padding)\n",
        "                   2. XOR with CBC-mode (with appropriate padding)\n",
        "Accept/generate the appropriate Key as per the selected algorithm.\n",
        " must include the following options\n",
        "                                          ->  Encrypt Message\n",
        "                                          ->  Decrypt Message\n",
        "                                          -> Quit"
      ],
      "metadata": {
        "id": "mfFcvEz0NPD0"
      }
    },
    {
      "cell_type": "code",
      "execution_count": null,
      "metadata": {
        "id": "YQAaWEYwK8y5",
        "colab": {
          "base_uri": "https://localhost:8080/"
        },
        "outputId": "0b49d34d-d8f2-4b3a-b466-4190725ac7da"
      },
      "outputs": [
        {
          "output_type": "stream",
          "name": "stdout",
          "text": [
            "PT(in binary form): 01101101010\n",
            "Select Mode (1 for ECB mode, 2 for CBC mode): 2\n",
            "\n",
            "Encrypted CBC text:  111100110010\n",
            "Decrypted CBC Text:  01101101010\n"
          ]
        }
      ],
      "source": [
        "def ecb_encrypt(splitted_PT, bit3_Block_cipher):\n",
        "  encrypted_PT = []\n",
        "  for block in splitted_PT:\n",
        "    if block in bit3_Block_cipher:\n",
        "      encrypted_PT.append(bit3_Block_cipher[block])\n",
        "  return encrypted_PT\n",
        "\n",
        "def ecb_decrypt(encrypted_PT, bit3_Block_cipher):\n",
        "  decrypted_CT = []\n",
        "  for block in encrypted_PT:\n",
        "    for k, v in bit3_Block_cipher.items():\n",
        "      if v == block:\n",
        "        decrypted_CT.append(k)\n",
        "        break\n",
        "  return decrypted_CT\n",
        "\n",
        "def splitting(Text, block_size):\n",
        "    binary_blocks = []\n",
        "    for i in range(0, len(Text), block_size):\n",
        "        block = Text[i:i+block_size]\n",
        "        if len(block) < block_size:\n",
        "          block += '0' * (block_size - len(block))\n",
        "        binary_blocks.append(block)\n",
        "    return binary_blocks\n",
        "\n",
        "def cbc_encrypt(splitted_PT, iv):\n",
        "  encrypted_PT = []\n",
        "  for block in splitted_PT:\n",
        "    cipher = bin(int(block, 2) ^ int(iv, 2))[2:].zfill(len(block))\n",
        "    encrypted_PT.append(cipher)\n",
        "    iv = cipher\n",
        "  return encrypted_PT\n",
        "\n",
        "def cbc_decrypt(encrypted_PT, bit3_Block_cipher, iv):\n",
        "  decrypted_CT = []\n",
        "  for block in encrypted_PT:\n",
        "    x =  bin(int(block, 2) ^ int(iv, 2))[2:].zfill(len(block))\n",
        "    decrypted_CT.append(x)\n",
        "    iv = block\n",
        "  return decrypted_CT\n",
        "\n",
        "plainText = (input(\"PT(in binary form): \"))\n",
        "bit3_Block_cipher = {\n",
        "    '000': '110',\n",
        "    '001': '101',\n",
        "    '010': '011',\n",
        "    '011': '000',\n",
        "    '100': '111',\n",
        "    '101': '001',\n",
        "    '110': '010',\n",
        "    '111': '100'\n",
        "}\n",
        "mode = int(input(\"Select Mode (1 for ECB mode, 2 for CBC mode): \"))\n",
        "if mode==1:\n",
        "  splitted_PT = splitting(plainText, 3)\n",
        "  encrypted_PT = ecb_encrypt(splitted_PT, bit3_Block_cipher)\n",
        "  print(\"\\nEncrypted ECB text: \", ''.join(encrypted_PT))\n",
        "  decrypted_CT = ''.join(ecb_decrypt(encrypted_PT, bit3_Block_cipher))\n",
        "  if len(decrypted_CT) > len(plainText):\n",
        "    decrypted_CT = decrypted_CT[:len(plainText)]\n",
        "  print(\"Decrypted ECB Text: \", decrypted_CT)\n",
        "elif mode==2:\n",
        "  splitted_PT = splitting(plainText, 3)\n",
        "  encrypted_PT = cbc_encrypt(splitted_PT, '100')\n",
        "  print(\"\\nEncrypted CBC text: \", ''.join(encrypted_PT))\n",
        "  decrypted_CT = ''.join(cbc_decrypt(encrypted_PT, bit3_Block_cipher, '100'))\n",
        "  print(\"Decrypted CBC Text: \", decrypted_CT[:len(plainText)])\n",
        "else:\n",
        "  print(\"Quit\")"
      ]
    }
  ]
}