{
  "cells": [
    {
      "cell_type": "markdown",
      "metadata": {
        "id": "qG634O7FFPz-"
      },
      "source": [
        "1. Implement a permutation Cipher in Python to encrypt and decrypt messages.\n",
        "*   Implement the encrypt(message, key) function.\n",
        "*   Implement the decrypt(encrypted_message, key) function.\n",
        "\n",
        "    Test your implementation by encrypting and decrypting sample messages."
      ]
    },
    {
      "cell_type": "code",
      "execution_count": 25,
      "metadata": {
        "colab": {
          "base_uri": "https://localhost:8080/"
        },
        "id": "3qWwHGMPFJDD",
        "outputId": "5e4ae760-25ab-40be-bad2-2cdedb919eb1"
      },
      "outputs": [
        {
          "output_type": "stream",
          "name": "stdout",
          "text": [
            "Encrypted message: 0010011010100110011001010110011101100100\n",
            "Decrypted message: priya\n"
          ]
        }
      ],
      "source": [
        "import random\n",
        "\n",
        "def string_to_binary(message):\n",
        "    binary_message = ''\n",
        "    for char in message:\n",
        "        binary_message += format(ord(char), '08b')\n",
        "    return binary_message\n",
        "\n",
        "def generate_permutation_table():\n",
        "    table = list(range(8))\n",
        "    random.shuffle(table)\n",
        "    return table\n",
        "\n",
        "def split_binary(binary_message, block_size):\n",
        "    binary_blocks = []\n",
        "    for i in range(0, len(binary_message), block_size):\n",
        "        block = binary_message[i:i+block_size]\n",
        "        binary_blocks.append(block)\n",
        "    return binary_blocks\n",
        "\n",
        "def permutation_cipher(binary_message, table):\n",
        "    shuffled_binary = ''.join(binary_message[i] for i in table)\n",
        "    return shuffled_binary\n",
        "\n",
        "def encrypt(message, table):\n",
        "    binary_message = string_to_binary(message)\n",
        "    split_message = split_binary(binary_message, 8)\n",
        "    encrypted_blocks = [permutation_cipher(block, table) for block in split_message]\n",
        "    encrypted_message = ''.join(encrypted_blocks)\n",
        "    return encrypted_message\n",
        "\n",
        "def inverse_permutation_cipher(encrypted_binary_message, table):\n",
        "    original_binary_message = ''.join(encrypted_binary_message[table.index(i)] for i in range(len(table)))\n",
        "    return original_binary_message\n",
        "\n",
        "def decrypt(encrypted_message, table):\n",
        "    encrypted_blocks = split_binary(encrypted_message, 8)\n",
        "    decrypted_blocks = [inverse_permutation_cipher(block, table) for block in encrypted_blocks]\n",
        "    binary_message = ''.join(decrypted_blocks)\n",
        "    message = ''\n",
        "    for i in range(0, len(binary_message), 8):\n",
        "        byte = binary_message[i:i+8]\n",
        "        message += chr(int(byte, 2))\n",
        "    return message\n",
        "\n",
        "message = \"priya\"\n",
        "table = generate_permutation_table()\n",
        "encrypted_message = encrypt(message, table)\n",
        "print(\"Encrypted message:\", encrypted_message)\n",
        "\n",
        "decrypted_message = decrypt(encrypted_message, table)\n",
        "print(\"Decrypted message:\", decrypted_message)"
      ]
    },
    {
      "cell_type": "markdown",
      "metadata": {
        "id": "W6mHlE4gF-Zq"
      },
      "source": [
        "2. Implement the Vernam-Vigenère Cipher in Python to encrypt and decrypt messages.\n",
        "\n",
        "*   Implement the encrypt() function to perform encryption.\n",
        "*   Implement the decrypt() function to perform decryption.\n",
        "\n",
        "    Test your implementation with the provided test cases to ensure correctness."
      ]
    },
    {
      "cell_type": "code",
      "execution_count": 26,
      "metadata": {
        "colab": {
          "base_uri": "https://localhost:8080/"
        },
        "id": "vb47U3PhiJe9",
        "outputId": "6ffa50bb-0b56-4408-8d3d-e5f086bdbaa4"
      },
      "outputs": [
        {
          "output_type": "stream",
          "name": "stdout",
          "text": [
            "Encrypted: CIABIR ENZPC\n",
            "Decrypted: SECRET APPLE\n"
          ]
        }
      ],
      "source": [
        "class VernamVigenereCipher:\n",
        "    def __init__(self, key):\n",
        "        self.key = key.upper()\n",
        "\n",
        "    def repeat_key(self, text):\n",
        "        repeated_key = (self.key * (len(text) // len(self.key))) + self.key[:len(text) % len(self.key)]\n",
        "        return repeated_key\n",
        "\n",
        "    def encrypt(self, plaintext):\n",
        "        plaintext = plaintext.upper()\n",
        "        key = self.repeat_key(plaintext)\n",
        "        ciphertext = ''\n",
        "        for i in range(len(plaintext)):\n",
        "            if plaintext[i].isalpha():\n",
        "                shift = (ord(plaintext[i]) - ord('A') + ord(key[i]) - ord('A')) % 26\n",
        "                ciphertext += chr(shift + ord('A'))\n",
        "            else:\n",
        "                ciphertext += plaintext[i]\n",
        "        return ciphertext\n",
        "\n",
        "    def decrypt(self, ciphertext):\n",
        "        ciphertext = ciphertext.upper()\n",
        "        key = self.repeat_key(ciphertext)\n",
        "        plaintext = ''\n",
        "        for i in range(len(ciphertext)):\n",
        "            if ciphertext[i].isalpha():\n",
        "                shift = (ord(ciphertext[i]) - ord('A') - (ord(key[i]) - ord('A'))) % 26\n",
        "                plaintext += chr(shift + ord('A'))\n",
        "            else:\n",
        "                plaintext += ciphertext[i]\n",
        "        return plaintext\n",
        "\n",
        "cipher = VernamVigenereCipher('KEY')\n",
        "encrypted = cipher.encrypt('SECRET APPLE')\n",
        "print('Encrypted:', encrypted)\n",
        "decrypted = cipher.decrypt(encrypted)\n",
        "print('Decrypted:', decrypted)\n"
      ]
    }
  ],
  "metadata": {
    "colab": {
      "provenance": []
    },
    "kernelspec": {
      "display_name": "Python 3",
      "name": "python3"
    },
    "language_info": {
      "name": "python"
    }
  },
  "nbformat": 4,
  "nbformat_minor": 0
}