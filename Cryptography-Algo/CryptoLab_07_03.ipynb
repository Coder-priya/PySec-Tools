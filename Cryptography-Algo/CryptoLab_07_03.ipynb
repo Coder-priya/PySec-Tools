{
  "cells": [
    {
      "cell_type": "markdown",
      "metadata": {
        "id": "VMRZNW_r6BPZ"
      },
      "source": [
        "1. Write a Python function to check if a given integer is a prime number or not. Your function should take an integer as input and return ‘True’ if the number is prime, and ‘False’ otherwise. Additionally, provide an example demonstrating the usage of your function."
      ]
    },
    {
      "cell_type": "code",
      "execution_count": 1,
      "metadata": {
        "colab": {
          "base_uri": "https://localhost:8080/"
        },
        "id": "bme-xAUa58-6",
        "outputId": "d1870fb3-114d-4d9c-c4f0-e92ac2ba14fc"
      },
      "outputs": [
        {
          "name": "stdout",
          "output_type": "stream",
          "text": [
            "5 is prime number:  True\n"
          ]
        }
      ],
      "source": [
        "def primeNo(num):\n",
        "  count=0\n",
        "  if num<=1:\n",
        "    return False\n",
        "  if num==2:\n",
        "    return True\n",
        "  for i in range (2, num):\n",
        "    if num%i==0:\n",
        "      count+=1\n",
        "  if count== 0:\n",
        "    return True\n",
        "  else:\n",
        "    return False\n",
        "num = int(input(\"Number: \"))\n",
        "print(num, \"is prime number: \", primeNo(num))"
      ]
    },
    {
      "cell_type": "markdown",
      "metadata": {
        "id": "FPwoXbqT86PJ"
      },
      "source": [
        "2. Write a Python function that counts the number of prime factors of a given integer. Your function should take an integer as input and return the count of its prime factors.\n"
      ]
    },
    {
      "cell_type": "code",
      "execution_count": null,
      "metadata": {
        "colab": {
          "base_uri": "https://localhost:8080/"
        },
        "id": "T25KcO_q9FuG",
        "outputId": "336c49b4-de40-4a90-9882-b625e6155d26"
      },
      "outputs": [
        {
          "name": "stdout",
          "output_type": "stream",
          "text": [
            "number: 60\n",
            "no. of prime factors:  4\n"
          ]
        }
      ],
      "source": [
        "def primeNo(num):\n",
        "  count=0\n",
        "  if num<=1:\n",
        "    return False\n",
        "  if num==2:\n",
        "    return True\n",
        "  for i in range (2, num):\n",
        "    if num%i==0:\n",
        "      count+=1\n",
        "  if count== 0:\n",
        "    return True\n",
        "  else:\n",
        "    return False\n",
        "\n",
        "def count_primeFactors(n):\n",
        "  count = 0\n",
        "  while n % 2 == 0:\n",
        "    count += 1\n",
        "    n = n // 2\n",
        "  for i in range(3, int(n**0.5) + 1, 2):\n",
        "    while n % i == 0:\n",
        "      if primeNo(i):\n",
        "        count += 1\n",
        "      n = n // i\n",
        "  if n > 2 and primeNo(n):\n",
        "    count += 1\n",
        "  return count\n",
        "num = int(input(\"number: \"))\n",
        "print(\"no. of prime factors: \", count_primeFactors(num))"
      ]
    },
    {
      "cell_type": "markdown",
      "metadata": {
        "id": "YoHbGyuBETGB"
      },
      "source": [
        "3. Implement the Euclidean Algorithm in Python to find the greatest common divisor (gcd) of two given integers. Your function should take two integers as input and return their gcd."
      ]
    },
    {
      "cell_type": "code",
      "execution_count": null,
      "metadata": {
        "colab": {
          "base_uri": "https://localhost:8080/"
        },
        "id": "9DDcm1lcEacz",
        "outputId": "1ae9bd8d-1b2e-43a9-b859-e4620f0477d6"
      },
      "outputs": [
        {
          "name": "stdout",
          "output_type": "stream",
          "text": [
            "number 1: 160\n",
            "number 2: 60\n",
            "gcd:  20\n"
          ]
        }
      ],
      "source": [
        "def gcd(n1, n2):\n",
        "  a= max(n1, n2)\n",
        "  b= min(n1, n2)\n",
        "  r=a%b\n",
        "  q=a//b\n",
        "  while r>0 :\n",
        "    a = b* q + r\n",
        "    a = b\n",
        "    b = r\n",
        "    r=a%b\n",
        "    q=a//b\n",
        "  return b\n",
        "n1 = int(input(\"number 1: \"))\n",
        "n2 = int(input(\"number 2: \"))\n",
        "print(\"gcd: \", gcd(n1, n2))"
      ]
    },
    {
      "cell_type": "markdown",
      "metadata": {
        "id": "7zonMH69EbFp"
      },
      "source": [
        "\n",
        "4. Write a Python function to find the least common multiple (LCM) of two given integers. Your function should take two integers as input and return their LCM."
      ]
    },
    {
      "cell_type": "code",
      "execution_count": null,
      "metadata": {
        "colab": {
          "base_uri": "https://localhost:8080/"
        },
        "id": "m4ghJg78EgWa",
        "outputId": "8a311769-4145-493d-c537-657a441cdc5e"
      },
      "outputs": [
        {
          "name": "stdout",
          "output_type": "stream",
          "text": [
            "number 1: 160\n",
            "number 2: 60\n",
            "gcd:  20 \n",
            "lcm:  480.0\n"
          ]
        }
      ],
      "source": [
        "def gcd(n1, n2):\n",
        "  a= max(n1, n2)\n",
        "  b= min(n1, n2)\n",
        "  r=a%b\n",
        "  q=a//b\n",
        "  while r>0 :\n",
        "    a = b* q + r\n",
        "    a = b\n",
        "    b = r\n",
        "    r=a%b\n",
        "    q=a//b\n",
        "  return b\n",
        "n1 = int(input(\"number 1: \"))\n",
        "n2 = int(input(\"number 2: \"))\n",
        "LCM = (n1 * n2)/gcd(n1, n2)\n",
        "print(\"gcd: \", gcd(n1,n2), \"\\nlcm: \", LCM)"
      ]
    }
  ],
  "metadata": {
    "colab": {
      "provenance": []
    },
    "kernelspec": {
      "display_name": "Python 3",
      "name": "python3"
    },
    "language_info": {
      "codemirror_mode": {
        "name": "ipython",
        "version": 3
      },
      "file_extension": ".py",
      "mimetype": "text/x-python",
      "name": "python",
      "nbconvert_exporter": "python",
      "pygments_lexer": "ipython3",
      "version": "3.12.1"
    }
  },
  "nbformat": 4,
  "nbformat_minor": 0
}
