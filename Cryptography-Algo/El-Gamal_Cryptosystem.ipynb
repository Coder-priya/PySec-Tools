{
 "cells": [
  {
   "cell_type": "markdown",
   "metadata": {},
   "source": [
    "Q. Alice and Bob want to communicate securely. They decided to use a secure method to generate a shared secret key. This shared key can then be used for encrypting and decrypting messages.Write and Implement a suitable algorithm for their."
   ]
  },
  {
   "cell_type": "code",
   "execution_count": 6,
   "metadata": {},
   "outputs": [
    {
     "name": "stdout",
     "output_type": "stream",
     "text": [
      "g:  6\n",
      "Shared secret key by Alice:  8\n",
      "Shared secret key by Bob:  8\n"
     ]
    }
   ],
   "source": [
    "#for key generation: using Diffie-Hellman key exchange\n",
    "\n",
    "import random\n",
    "from math import gcd\n",
    "\n",
    "def generator(p):\n",
    "    Z = {num for num in range(1, p) if gcd(num, p) == 1}\n",
    "    return [g for g in range(1, p) if Z == {pow(g, powers, p) for powers in range(1, p)}]\n",
    "\n",
    "def diffie_hellman(p, g, a, b):\n",
    "    A = pow(g, a, p)\n",
    "    B = pow(g, b, p)\n",
    "    \n",
    "    key_A = pow(B, a, p)\n",
    "    key_B = pow(A, b, p)\n",
    "    \n",
    "    return key_A, key_B\n",
    "\n",
    "p = int(input(\"Enter large Prime no: \"))\n",
    "g = random.choice(generator(p))\n",
    "print(\"g: \", g)\n",
    "a = random.randint(1, p-1)\n",
    "b = random.randint(1, p-1)\n",
    "key_A, key_B = diffie_hellman(p, g, a, b)\n",
    "print(\"Shared secret key by Alice: \", key_A)\n",
    "print(\"Shared secret key by Bob: \", key_B)\n"
   ]
  },
  {
   "cell_type": "code",
   "execution_count": 11,
   "metadata": {},
   "outputs": [
    {
     "name": "stdout",
     "output_type": "stream",
     "text": [
      "x (private key):  5\n",
      "y (public key):  10\n",
      "k:  3\n",
      "Encrypted message received by Alice:  (7, 9)\n",
      "Message Decrypted by Alice:  4\n"
     ]
    }
   ],
   "source": [
    "#for encryption and decryption: using El-Gamal cryptosystem\n",
    "\n",
    "def elgamal_encrypt(p, g, y, m):\n",
    "    k = random.randint(1, p-1)\n",
    "    print(\"k: \", k)\n",
    "    a = pow(g, k, p)\n",
    "    bob_c = (m * pow(y, k, p)) % p\n",
    "    return a, bob_c\n",
    "\n",
    "def elgamal_decrypt(p, a, c, x):\n",
    "    decypted_m = (c * pow(a, -x, p)) % p\n",
    "    return decypted_m\n",
    "\n",
    "m = int(input(\"Enter message (in decimal): \"))\n",
    "x = random.randint(1, p-1)\n",
    "print(\"x (private key): \", x)\n",
    "y = pow(g, x, p)\n",
    "print(\"y (public key): \", y)\n",
    "a, bob_c = elgamal_encrypt(p, g, y, m)\n",
    "decrypted_message = elgamal_decrypt(p, a, bob_c, x)\n",
    "print(\"Encrypted message received by Alice: \", (a, b))\n",
    "print(\"Message Decrypted by Alice: \", decrypted_message)"
   ]
  }
 ],
 "metadata": {
  "kernelspec": {
   "display_name": "Python 3",
   "language": "python",
   "name": "python3"
  },
  "language_info": {
   "codemirror_mode": {
    "name": "ipython",
    "version": 3
   },
   "file_extension": ".py",
   "mimetype": "text/x-python",
   "name": "python",
   "nbconvert_exporter": "python",
   "pygments_lexer": "ipython3",
   "version": "3.12.1"
  }
 },
 "nbformat": 4,
 "nbformat_minor": 2
}
