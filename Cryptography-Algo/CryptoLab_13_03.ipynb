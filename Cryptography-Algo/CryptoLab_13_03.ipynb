{
  "nbformat": 4,
  "nbformat_minor": 0,
  "metadata": {
    "colab": {
      "provenance": []
    },
    "kernelspec": {
      "name": "python3",
      "display_name": "Python 3"
    },
    "language_info": {
      "name": "python"
    }
  },
  "cells": [
    {
      "cell_type": "markdown",
      "source": [
        "1. Write a Python program to perform modular arithmetic operations using multiple functions. Additionally, utilize the modular multiplication function to find the modular multiplicative inverse of a number."
      ],
      "metadata": {
        "id": "dYJTfa9TBo3B"
      }
    },
    {
      "cell_type": "code",
      "execution_count": 11,
      "metadata": {
        "colab": {
          "base_uri": "https://localhost:8080/"
        },
        "id": "FLBjtSczBhs_",
        "outputId": "9f983746-ab47-4105-854a-061f2c218e12"
      },
      "outputs": [
        {
          "output_type": "stream",
          "name": "stdout",
          "text": [
            "a: 2\n",
            "b: 4\n",
            "n: 7\n",
            "Modular addition:  6\n",
            "Modular subtraction:  5\n",
            "Modular Multiplication:  1\n",
            "Modular exponentitation:  2\n",
            "Multiplicative inverse of  2  is  4 \n",
            "Multiplicative inverse of  4  is  2\n"
          ]
        }
      ],
      "source": [
        "def multiplicative_inverse(a, n):\n",
        "  inverse= 0\n",
        "  for i in range (1, n):\n",
        "    if multiply(a, i, n)==1:\n",
        "      inverse = i\n",
        "  return inverse\n",
        "\n",
        "def addition(a, b, n):\n",
        "  return (a+b)%n\n",
        "def subtract(a, b, n):\n",
        "  return (a-b)%n\n",
        "def multiply(a, b, n):\n",
        "  return (a*b)%n\n",
        "def exponent(a, b, n):\n",
        "  return (a**b)%n\n",
        "\n",
        "a=int(input(\"a: \"))\n",
        "b=int(input(\"b: \"))\n",
        "n=int(input(\"n: \"))\n",
        "print(\"Modular addition: \", addition(a, b, n))\n",
        "print(\"Modular subtraction: \", subtract(a, b, n))\n",
        "print(\"Modular Multiplication: \", multiply(a, b, n))\n",
        "print(\"Modular exponentitation: \", exponent(a, b, n))\n",
        "print(\"Multiplicative inverse of \",a, \" is \", multiplicative_inverse(a, n), \"\\nMultiplicative inverse of \", b, \" is \", multiplicative_inverse(b, n) )"
      ]
    },
    {
      "cell_type": "markdown",
      "source": [
        "2. Euler’s Totient Function ϕ(n):\n",
        "Write a Python function to find the number of invertible elements which are less than let's say n, and relatively prime\n",
        "     to n  using Euler’s Totient function. Where n is a positive integer."
      ],
      "metadata": {
        "id": "ATW9WXhYCn6K"
      }
    },
    {
      "cell_type": "code",
      "source": [
        "def gcd(n1, n2):\n",
        "  a= max(n1, n2)\n",
        "  b= min(n1, n2)\n",
        "  r=a%b\n",
        "  q=a//b\n",
        "  while r>0 :\n",
        "    a = b* q + r\n",
        "    a = b\n",
        "    b = r\n",
        "    r=a%b\n",
        "    q=a//b\n",
        "  return b\n",
        "\n",
        "def phi(n):\n",
        "  count = 0\n",
        "  for i in range(1, n):\n",
        "    if gcd(i, n)==1:\n",
        "      count+=1\n",
        "  return count\n",
        "\n",
        "n=int(input(\"n: \"))\n",
        "print(\"ϕ(\",n,\"): \", phi(n))"
      ],
      "metadata": {
        "colab": {
          "base_uri": "https://localhost:8080/"
        },
        "id": "j8wGmChE2BlY",
        "outputId": "c60ef88b-ba99-447c-a117-dbc633e9ec58"
      },
      "execution_count": 3,
      "outputs": [
        {
          "output_type": "stream",
          "name": "stdout",
          "text": [
            "n: 9\n",
            "ϕ( 9 ):  6\n"
          ]
        }
      ]
    },
    {
      "cell_type": "markdown",
      "source": [
        "3. Create a Python function to implement Fermat’s Little Theorem to check the primality of an integer."
      ],
      "metadata": {
        "id": "ZQMryW7ACxoT"
      }
    },
    {
      "cell_type": "code",
      "source": [
        "def fermat_little(p):\n",
        "  count=0\n",
        "  for a in range (1, p):\n",
        "    if (a**(p-1))%p != 1:\n",
        "      count-=1\n",
        "      break\n",
        "    else:\n",
        "      count+=1\n",
        "      continue\n",
        "  if count>0:\n",
        "    print(\"prime\")\n",
        "  else:\n",
        "    print(\"composite\")\n",
        "\n",
        "n=int(input(\"enter an integer: \"))\n",
        "fermat_little(n)"
      ],
      "metadata": {
        "colab": {
          "base_uri": "https://localhost:8080/"
        },
        "id": "sEwwLvEFDAhV",
        "outputId": "cce94446-3731-4ac4-a9b1-e4a634a6f768"
      },
      "execution_count": 1,
      "outputs": [
        {
          "output_type": "stream",
          "name": "stdout",
          "text": [
            "enter an integer: 67\n",
            "prime\n"
          ]
        }
      ]
    }
  ]
}