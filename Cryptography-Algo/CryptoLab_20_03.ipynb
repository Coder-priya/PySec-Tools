{
  "cells": [
    {
      "cell_type": "markdown",
      "metadata": {
        "id": "jlD4Z7RX9ffl"
      },
      "source": [
        "1. Implement a substitution cipher in Python where your first name is rotated by a value determined from the single-digit sum of your roll number."
      ]
    },
    {
      "cell_type": "code",
      "execution_count": 8,
      "metadata": {
        "colab": {
          "base_uri": "https://localhost:8080/"
        },
        "id": "auQ3CzSi9doq",
        "outputId": "4f75f6b6-5d8a-4027-e6d9-692c5f9f8878"
      },
      "outputs": [
        {
          "name": "stdout",
          "output_type": "stream",
          "text": [
            "First Name: priya\n",
            "Roll number: 231507\n",
            "E( priya , 231507 ):  sulbd\n"
          ]
        }
      ],
      "source": [
        "def key(rollno):\n",
        "  sum = 0\n",
        "  lst = [0,1,2,3,4,5,6,7,8,9]\n",
        "  for digit in str(rollno):\n",
        "    sum += int(digit)\n",
        "    if sum not in lst:\n",
        "      return key(sum)\n",
        "    else:\n",
        "      return sum\n",
        "\n",
        "def substitution_cipher(name, key):\n",
        "  encrypt_text = \"\"\n",
        "  Utext = name.upper()\n",
        "  for c in Utext:\n",
        "    x = CHARACTER_LIST.index(c) + key\n",
        "    encrypt_text = encrypt_text + CHARACTER_LIST[x%26]\n",
        "  if name != Utext:\n",
        "    encrypt_text = encrypt_text.lower()\n",
        "  return encrypt_text\n",
        "\n",
        "name = input(\"First Name: \")\n",
        "rollno = int(input(\"Roll number: \"))\n",
        "key = key(rollno)\n",
        "\n",
        "CHARACTER_LIST = []\n",
        "alpha = 'A'\n",
        "for i in range(0, 26):\n",
        "    CHARACTER_LIST.append(alpha)\n",
        "    alpha = chr(ord(alpha) + 1)\n",
        "\n",
        "print(\"E(\", name,\",\", rollno, \"): \", substitution_cipher(name, rollno))"
      ]
    },
    {
      "cell_type": "markdown",
      "metadata": {
        "id": "ZPDU66DU9jLR"
      },
      "source": [
        "2. Implement a Python program to perform encryption and decryption using the Caesar cipher."
      ]
    },
    {
      "cell_type": "code",
      "execution_count": 44,
      "metadata": {
        "colab": {
          "base_uri": "https://localhost:8080/"
        },
        "id": "yryasNbU9jh1",
        "outputId": "a1d0e17e-3111-42b6-ecbd-d2f64f8009c8"
      },
      "outputs": [
        {
          "name": "stdout",
          "output_type": "stream",
          "text": [
            "Plain_text: APPLE\n",
            "E( APPLE , 3 ) =  DSSOH\n",
            "D( APPLE , 3 ) =  APPLE\n"
          ]
        }
      ],
      "source": [
        "def caesar_encryption(text, key):\n",
        "  encrypt_text = \"\"\n",
        "  Utext = text.upper()\n",
        "  for c in Utext:\n",
        "    x = CHARACTER_LIST.index(c) + key\n",
        "    encrypt_text = encrypt_text + CHARACTER_LIST[x%26]\n",
        "  if text != Utext:\n",
        "    encrypt_text = encrypt_text.lower()\n",
        "  return encrypt_text\n",
        "\n",
        "def caesar_decryption(encrypted_text, key):\n",
        "  decrypt_text = \"\"\n",
        "  Utext = encrypted_text.upper()\n",
        "  for c in Utext:\n",
        "    x = CHARACTER_LIST.index(c) - key\n",
        "    decrypt_text = decrypt_text + CHARACTER_LIST[x%26]\n",
        "  if encrypted_text != Utext:\n",
        "    decrypt_text = decrypt_text.lower()\n",
        "  return decrypt_text\n",
        "\n",
        "text = input(\"Plain_text: \")\n",
        "key = 3\n",
        "\n",
        "CHARACTER_LIST = []\n",
        "alpha = 'A'\n",
        "for i in range(0, 26):\n",
        "    CHARACTER_LIST.append(alpha)\n",
        "    alpha = chr(ord(alpha) + 1)\n",
        "\n",
        "encrypted_text = caesar_encryption(text, key)\n",
        "print(\"E(\", text,\",\", key, \") = \", encrypted_text)\n",
        "print(\"D(\", text,\",\", key, \") = \", caesar_decryption(encrypted_text, key))"
      ]
    }
  ],
  "metadata": {
    "colab": {
      "provenance": []
    },
    "kernelspec": {
      "display_name": "Python 3",
      "name": "python3"
    },
    "language_info": {
      "name": "python"
    }
  },
  "nbformat": 4,
  "nbformat_minor": 0
}
