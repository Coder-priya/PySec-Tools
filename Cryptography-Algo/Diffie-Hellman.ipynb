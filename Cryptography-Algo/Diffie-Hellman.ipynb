{
  "cells": [
    {
      "cell_type": "markdown",
      "metadata": {
        "id": "gmwTHHaabO75"
      },
      "source": [
        "Write algorithm for Diffie-Hellman key exchange algorithm using the given steps.\n",
        "\n",
        "*   Consider a prime number p\n",
        "*   Consider primitive root (generator) g of  such that g < p\n",
        "\n",
        "*   Take a and find A=g^a mod p. Similarly find B using b.\n",
        "*   Find K1 such that K1=B^a mod p for user . Similarly, find K2\n",
        "*   Check for the equality of K1 and K2."
      ]
    },
    {
      "cell_type": "code",
      "execution_count": 5,
      "metadata": {
        "colab": {
          "base_uri": "https://localhost:8080/",
          "height": 384
        },
        "id": "u0WkcZ77bOTk",
        "outputId": "a148c035-196a-4eb7-d295-5c342ad34838"
      },
      "outputs": [
        {
          "name": "stdout",
          "output_type": "stream",
          "text": [
            "prime no: 7\n",
            "g:  5\n",
            "private key, a:  3\n",
            "private key, b:  3\n",
            "Key is Valid and KEY:  6\n"
          ]
        }
      ],
      "source": [
        "from primePy import primes\n",
        "import random\n",
        "from math import gcd\n",
        "\n",
        "def generator(p):\n",
        "    Z = {num for num in range(1, p) if gcd(num, p) == 1}\n",
        "    return [g for g in range(1, p) if Z == {pow(g, powers, p) for powers in range(1, p)}]\n",
        "\n",
        "p = random.choice(primes.between(4, 15))\n",
        "print(\"prime no:\", p)\n",
        "g = random.choice(generator(p))\n",
        "print(\"g: \", g)\n",
        "\n",
        "a = random.choice(range(2, p))\n",
        "print(\"private key, a: \", a)\n",
        "A = g**a % p\n",
        "\n",
        "b = random.choice(range(2, p))\n",
        "print(\"private key, b: \", b)\n",
        "B = g**b % p\n",
        "\n",
        "K1 = B**a % p\n",
        "K2 = A**b % p\n",
        "if K1 == K2:\n",
        "    K = g**(a*b) % p\n",
        "    print(\"Key is Valid and KEY: \", K)\n",
        "else:\n",
        "    print(\"Key is not Valid\")"
      ]
    }
  ],
  "metadata": {
    "colab": {
      "provenance": []
    },
    "kernelspec": {
      "display_name": "Python 3",
      "name": "python3"
    },
    "language_info": {
      "codemirror_mode": {
        "name": "ipython",
        "version": 3
      },
      "file_extension": ".py",
      "mimetype": "text/x-python",
      "name": "python",
      "nbconvert_exporter": "python",
      "pygments_lexer": "ipython3",
      "version": "3.12.1"
    }
  },
  "nbformat": 4,
  "nbformat_minor": 0
}
