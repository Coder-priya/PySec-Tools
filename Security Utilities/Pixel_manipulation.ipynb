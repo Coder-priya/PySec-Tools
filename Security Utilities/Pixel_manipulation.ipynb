{
 "cells": [
  {
   "cell_type": "markdown",
   "metadata": {},
   "source": [
    "Develop a simple image encryption tool using pixel manipulation. You can perform operations like swapping pixel values or applying a basic mathematical operation to each pixel. Allow users to encrypt and decrypt images."
   ]
  },
  {
   "cell_type": "code",
   "execution_count": 1,
   "metadata": {},
   "outputs": [],
   "source": [
    "import tkinter as tk\n",
    "from tkinter import filedialog\n",
    "import cv2                                               # needed action: \"pip install openCV\" in terminal\n",
    "import numpy as np"
   ]
  },
  {
   "cell_type": "code",
   "execution_count": 2,
   "metadata": {},
   "outputs": [],
   "source": [
    "def encrypt_image(image_path, key):\n",
    "    \n",
    "    img = cv2.imread(image_path)\n",
    "    img_array = np.array(img)\n",
    "    np.random.seed(key)\n",
    "    \n",
    "    random_matrix = np.random.randint(0, 256, size=img_array.shape, dtype=np.uint8)\n",
    "    encrypted_array = cv2.bitwise_xor(img_array, random_matrix)\n",
    "\n",
    "    cv2.imwrite('encrypted_array.png', encrypted_array)\n",
    "    cv2.imshow('Encrypted Image', encrypted_array)\n",
    "    cv2.waitKey(5000)\n",
    "    cv2.destroyAllWindows()"
   ]
  },
  {
   "cell_type": "code",
   "execution_count": 3,
   "metadata": {},
   "outputs": [],
   "source": [
    "def decrypt_image(encrypted_image_path, key):\n",
    "\n",
    "    encrypted_img = cv2.imread(encrypted_image_path)\n",
    "    encrypted_img_array = np.array(encrypted_img)\n",
    "    np.random.seed(key)\n",
    "    \n",
    "    random_matrix = np.random.randint(0, 256, size=encrypted_img_array.shape, dtype=np.uint8)\n",
    "    decrypted_array = cv2.bitwise_xor(encrypted_img_array, random_matrix)\n",
    "    \n",
    "    cv2.imwrite('decrypted_image.png', decrypted_array)\n",
    "    cv2.imshow('Decrypted Image', decrypted_array)\n",
    "    cv2.waitKey(5000)\n",
    "    cv2.destroyAllWindows()"
   ]
  },
  {
   "cell_type": "code",
   "execution_count": 5,
   "metadata": {},
   "outputs": [
    {
     "name": "stderr",
     "output_type": "stream",
     "text": [
      "Exception in Tkinter callback\n",
      "Traceback (most recent call last):\n",
      "  File \"c:\\Python312\\Lib\\tkinter\\__init__.py\", line 1962, in __call__\n",
      "    return self.func(*args)\n",
      "           ^^^^^^^^^^^^^^^^\n",
      "  File \"C:\\Users\\pp647\\AppData\\Local\\Temp\\ipykernel_11432\\3681474922.py\", line 16, in <lambda>\n",
      "    encrypt_button = tk.Button(window, text='Encrypt Image', command=lambda: encrypt_image(browse_file(), int(key_entry.get())))\n",
      "                                                                             ^^^^^^^^^^^^^^^^^^^^^^^^^^^^^^^^^^^^^^^^^^^^^^^^^^\n",
      "  File \"C:\\Users\\pp647\\AppData\\Local\\Temp\\ipykernel_11432\\3674473668.py\", line 8, in encrypt_image\n",
      "    encrypted_array = cv2.bitwise_xor(img_array, random_matrix)\n",
      "                      ^^^^^^^^^^^^^^^^^^^^^^^^^^^^^^^^^^^^^^^^^\n",
      "cv2.error: OpenCV(4.9.0) :-1: error: (-5:Bad argument) in function 'bitwise_xor'\n",
      "> Overload resolution failed:\n",
      ">  - src1 data type = object is not supported\n",
      ">  - Expected Ptr<cv::UMat> for argument 'src1'\n",
      "\n"
     ]
    }
   ],
   "source": [
    "def browse_file():\n",
    "    filename = filedialog.askopenfilename()\n",
    "    return filename\n",
    "\n",
    "def create_gui():\n",
    "    window = tk.Tk()\n",
    "    window.title('Image Encryption and Decryption Tool')\n",
    "\n",
    "    key_label = tk.Label(window, text='Key:')\n",
    "    key_label.pack()\n",
    "\n",
    "    key_entry = tk.Entry(window)\n",
    "    key_entry.insert(0, '123')\n",
    "    key_entry.pack()\n",
    "\n",
    "    encrypt_button = tk.Button(window, text='Encrypt Image', command=lambda: encrypt_image(browse_file(), int(key_entry.get())))\n",
    "    encrypt_button.pack()\n",
    "\n",
    "    decrypt_button = tk.Button(window, text='Decrypt Image', command=lambda: decrypt_image('encrypted_array.png', int(key_entry.get())))\n",
    "    decrypt_button.pack()\n",
    "\n",
    "    window.mainloop()\n",
    "\n",
    "create_gui()\n"
   ]
  },
  {
   "cell_type": "code",
   "execution_count": 12,
   "metadata": {},
   "outputs": [],
   "source": [
    "def browse_file():\n",
    "    filename = filedialog.askopenfilename()\n",
    "    return filename\n",
    "\n",
    "def create_gui():\n",
    "    # Create the main window\n",
    "    window = tk.Tk()\n",
    "    window.title('Waste Detector')\n",
    "    window.geometry(\"600x400\")\n",
    "\n",
    "    # Add widgets (buttons, labels, etc.) to the window\n",
    "    # For example, let's add a button that calls the `browse_file` function\n",
    "    browse_button = tk.Button(window, text='Browse', command=browse_file, font=(\"Helvetica\", 14))\n",
    "    browse_button.place(x=250, y=200)\n",
    "\n",
    "    # You can add more widgets as needed for your application\n",
    "\n",
    "    # Start the GUI event loop\n",
    "    window.mainloop()\n",
    "\n",
    "# Call the create_gui function to launch your application\n",
    "create_gui()"
   ]
  }
 ],
 "metadata": {
  "kernelspec": {
   "display_name": "Python 3",
   "language": "python",
   "name": "python3"
  },
  "language_info": {
   "codemirror_mode": {
    "name": "ipython",
    "version": 3
   },
   "file_extension": ".py",
   "mimetype": "text/x-python",
   "name": "python",
   "nbconvert_exporter": "python",
   "pygments_lexer": "ipython3",
   "version": "3.12.1"
  }
 },
 "nbformat": 4,
 "nbformat_minor": 2
}
