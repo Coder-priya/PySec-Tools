{
 "cells": [
  {
   "cell_type": "markdown",
   "metadata": {},
   "source": [
    "Develop a packet sniffer tool that captures and analyzes network packets. Display relevant information such as source and destination IP addresses, protocols, and payload data."
   ]
  },
  {
   "cell_type": "code",
   "execution_count": 1,
   "metadata": {},
   "outputs": [
    {
     "name": "stderr",
     "output_type": "stream",
     "text": [
      "WARNING: Wireshark is installed, but cannot read manuf !\n"
     ]
    }
   ],
   "source": [
    "from scapy.all import sniff, IP, TCP, UDP\n",
    "\n",
    "def packet_handler(packet):\n",
    "    if IP in packet:\n",
    "        src_ip = packet[IP].src\n",
    "        dst_ip = packet[IP].dst\n",
    "\n",
    "        if TCP in packet:\n",
    "            protocol = \"TCP\"\n",
    "            src_port = packet[TCP].sport\n",
    "            dst_port = packet[TCP].dport\n",
    "        elif UDP in packet:\n",
    "            protocol = \"UDP\"\n",
    "            src_port = packet[UDP].sport\n",
    "            dst_port = packet[UDP].dport\n",
    "        else:\n",
    "            protocol = \"Other\"\n",
    "            src_port = dst_port = None\n",
    "\n",
    "        print(f\"Source IP: {src_ip}, Destination IP: {dst_ip}, Protocol: {protocol}\")\n",
    "        if src_port and dst_port:\n",
    "            print(f\"Source Port: {src_port}, Destination Port: {dst_port}\")\n",
    "\n",
    "sniff(filter=\"ip\", prn=packet_handler, count=10000)\n"
   ]
  }
 ],
 "metadata": {
  "kernelspec": {
   "display_name": "Python 3",
   "language": "python",
   "name": "python3"
  },
  "language_info": {
   "codemirror_mode": {
    "name": "ipython",
    "version": 3
   },
   "file_extension": ".py",
   "mimetype": "text/x-python",
   "name": "python",
   "nbconvert_exporter": "python",
   "pygments_lexer": "ipython3",
   "version": "3.12.1"
  }
 },
 "nbformat": 4,
 "nbformat_minor": 2
}
