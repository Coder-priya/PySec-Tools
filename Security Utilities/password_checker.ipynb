{
 "cells": [
  {
   "cell_type": "markdown",
   "metadata": {},
   "source": [
    "Build a tool that assesses the strength of a password based on criteria such as length, presence of uppercase and lowercase letters, numbers, and special characters. Provide feedback to users on the password's strength."
   ]
  },
  {
   "cell_type": "code",
   "execution_count": 1,
   "metadata": {},
   "outputs": [
    {
     "name": "stdout",
     "output_type": "stream",
     "text": [
      "Password does not meet all criteria. Please improve it. 👎\n",
      "Criteria:\n",
      "Length: Met\n",
      "Uppercase: Not met\n",
      "Lowercase: Met\n",
      "Digit: Met\n",
      "Special_char: Met\n"
     ]
    }
   ],
   "source": [
    "def password_strength(password):\n",
    "    criteria = {\n",
    "        \"length\": len(password) >= 8,\n",
    "        \"uppercase\": any(c.isupper() for c in password),\n",
    "        \"lowercase\": any(c.islower() for c in password),\n",
    "        \"digit\": any(c.isdigit() for c in password),\n",
    "        \"special_char\": any(c in \"!@#$%^&*()_+-=[]{}|;:'\\\",.<>?/\" for c in password),\n",
    "    }\n",
    "\n",
    "    overall_strength = all(criteria.values())\n",
    "\n",
    "    feedback = {\n",
    "        \"overall_strength\": overall_strength,\n",
    "        \"criteria\": criteria,\n",
    "    }\n",
    "\n",
    "    return feedback\n",
    "\n",
    "user_password = input(\"Enter a password: \")\n",
    "result = password_strength(user_password)\n",
    "\n",
    "if result[\"overall_strength\"]:\n",
    "    print(\"Password is strong! 👍\")\n",
    "else:\n",
    "    print(\"Password does not meet all criteria. Please improve it. 👎\")\n",
    "    print(\"Criteria:\")\n",
    "    for crit, meets in result[\"criteria\"].items():\n",
    "        print(f\"{crit.capitalize()}: {'Met' if meets else 'Not met'}\")\n"
   ]
  }
 ],
 "metadata": {
  "kernelspec": {
   "display_name": "Python 3",
   "language": "python",
   "name": "python3"
  },
  "language_info": {
   "codemirror_mode": {
    "name": "ipython",
    "version": 3
   },
   "file_extension": ".py",
   "mimetype": "text/x-python",
   "name": "python",
   "nbconvert_exporter": "python",
   "pygments_lexer": "ipython3",
   "version": "3.12.1"
  }
 },
 "nbformat": 4,
 "nbformat_minor": 2
}
